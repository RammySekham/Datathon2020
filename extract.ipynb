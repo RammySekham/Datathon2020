{
 "cells": [
  {
   "cell_type": "code",
   "execution_count": 14,
   "metadata": {},
   "outputs": [],
   "source": [
    "## Importing all required libraries for Python 3.8\n",
    "from pathlib import Path\n",
    "import pandas as pd\n",
    "import os\n",
    "import zipfile\n",
    "import settings"
   ]
  },
  {
   "cell_type": "code",
   "execution_count": 15,
   "metadata": {},
   "outputs": [],
   "source": [
    "# Extracting all the files \n",
    "with zipfile.ZipFile(settings.RAW_DATA_DIR + \"\\\\\" + settings.File_name, \"r\") as zipObj:\n",
    "     zipObj.extractall()"
   ]
  },
  {
   "cell_type": "code",
   "execution_count": 16,
   "metadata": {},
   "outputs": [],
   "source": [
    "# Function to check folders in the directory and return the list of folders\n",
    "def getfolders(directory_Link):\n",
    "    path = Path(directory_Link)\n",
    "    folders = []\n",
    "    for entry in os.scandir(path):\n",
    "        if entry.is_dir():\n",
    "            folders.append(entry)\n",
    "    return folders"
   ]
  },
  {
   "cell_type": "code",
   "execution_count": 17,
   "metadata": {},
   "outputs": [],
   "source": [
    "# Function to access the folder in directory, append the data of each file from all the files in folder\n",
    "def appenddataset(path):\n",
    "    files = list(path.rglob('*.csv'))\n",
    "    dataset =  pd.DataFrame(columns = [])\n",
    "    for csv_file in files:\n",
    "        Single_data_file = pd.read_csv(csv_file)\n",
    "        Single_data_file = Single_data_file[1:]\n",
    "        Single_data_file[\"File Identifier\"] = csv_file.name\n",
    "        dataset = dataset.append(Single_data_file)\n",
    "    return dataset"
   ]
  },
  {
   "cell_type": "code",
   "execution_count": 18,
   "metadata": {},
   "outputs": [],
   "source": [
    "#Function to save appeneded datasets as a single file in the directory for future use\n",
    "def save_data(directory_Link):\n",
    "    folders_list= getfolders(directory_Link)\n",
    "    for each_folder in folders_list:\n",
    "        path = Path(directory_Link + \"\\\\\" + (each_folder.name))\n",
    "        dataset = appenddataset(path)\n",
    "        new_file_name = str(each_folder.name) + \".csv\"\n",
    "        dataset.to_csv(directory_Link + \"\\\\\" + new_file_name, index=False)"
   ]
  },
  {
   "cell_type": "code",
   "execution_count": 19,
   "metadata": {},
   "outputs": [],
   "source": [
    "# Get final files in files list\n",
    "def getfiles(directory_Link):\n",
    "    path = Path(directory_Link)\n",
    "    files = []\n",
    "    for entry in os.scandir(path):\n",
    "        if entry.is_file():\n",
    "            files.append(entry)\n",
    "    return files"
   ]
  },
  {
   "cell_type": "code",
   "execution_count": 20,
   "metadata": {},
   "outputs": [
    {
     "data": {
      "text/plain": [
       "[<DirEntry 'Australian_public_holidays_2014_2020.csv'>,\n",
       " <DirEntry 'Demand_2014_2020.csv'>,\n",
       " <DirEntry 'Employment_Unemployment_state_month_2014_2020.xls'>,\n",
       " <DirEntry 'LONG-LAT.xlsx'>,\n",
       " <DirEntry 'Temp_State_Daily_Max_2014_2020.csv'>,\n",
       " <DirEntry 'Temp_State_Daily_Min_2014_2020.csv'>]"
      ]
     },
     "execution_count": 20,
     "metadata": {},
     "output_type": "execute_result"
    }
   ],
   "source": [
    "# Datasets(Save single files per source in the directory)\n",
    "save_data(settings.EXTRACTED_DIR)\n",
    "files = getfiles(settings.EXTRACTED_DIR)\n",
    "files"
   ]
  }
 ],
 "metadata": {
  "kernelspec": {
   "display_name": "Python 3",
   "language": "python",
   "name": "python3"
  },
  "language_info": {
   "codemirror_mode": {
    "name": "ipython",
    "version": 3
   },
   "file_extension": ".py",
   "mimetype": "text/x-python",
   "name": "python",
   "nbconvert_exporter": "python",
   "pygments_lexer": "ipython3",
   "version": "3.8.3"
  }
 },
 "nbformat": 4,
 "nbformat_minor": 4
}
