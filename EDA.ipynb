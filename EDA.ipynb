{
 "cells": [
  {
   "cell_type": "code",
   "execution_count": 18,
   "metadata": {},
   "outputs": [],
   "source": [
    "#import libraries\n",
    "import pandas as pd\n",
    "import settings\n",
    "\n",
    "Link = settings.PROCESSED_DIR\n",
    "Link2 = settings.ASSEMBLED_DIR "
   ]
  },
  {
   "cell_type": "code",
   "execution_count": 19,
   "metadata": {},
   "outputs": [],
   "source": [
    "#  MERGE DATA- MODEL 1: Daily\n",
    "# Temp_daily\n",
    "Temp_daily_Max = pd.read_csv(Link + \"\\\\\" + 'Temp_daily_Max.csv')\n",
    "Temp_daily_Min = pd.read_csv(Link + \"\\\\\" + 'Temp_daily_Min.csv')\n",
    "\n",
    "#Merge1\n",
    "Merge1 = pd.merge(left =Temp_daily_Max, right=Temp_daily_Min, how =\"left\", left_on= ['YEAR','MONTH', 'DAY', 'STATE'], right_on = ['YEAR','MONTH', 'DAY', 'STATE'])\n",
    "\n",
    "# Demand_Daily\n",
    "Demand_daily = pd.read_csv(Link + \"\\\\\" + 'Demand_Daily.csv')\n",
    "#Merge2\n",
    "Merge2 = pd.merge(left=Demand_daily, right=Merge1, how = \"left\", left_on= ['YEAR','MONTH', 'DAY', 'STATE'], right_on = ['YEAR','MONTH', 'DAY', 'STATE'])\n",
    "\n",
    "# Holiday_Flag daily\n",
    "Holiday_daily = pd.read_csv(Link + \"\\\\\" + 'Hoilidays.csv')\n",
    "#Merge3\n",
    "Merge3 = pd.merge(left=Merge2, right=Holiday_daily, how='left', left_on= ['YEAR','MONTH', 'DAY', 'STATE'], right_on = ['YEAR','MONTH', 'DAY', 'STATE'])"
   ]
  },
  {
   "cell_type": "code",
   "execution_count": 20,
   "metadata": {},
   "outputs": [],
   "source": [
    "# # Weekend day flag\n",
    "Merge3['DayOfWeek'] = pd.to_datetime(Merge3[\"DATE_x\"]).dt.day_name(locale = 'English')"
   ]
  },
  {
   "cell_type": "code",
   "execution_count": 21,
   "metadata": {},
   "outputs": [],
   "source": [
    "# # Put Holiday_Flag 0 for other values, put Weekend day flag\n",
    "Merge3[\"Holiday_Flag\"].fillna(0, inplace= True)\n",
    "Merge3[\"Weekened_Flag\"]= 0\n",
    "Merge3.loc[Merge3['DayOfWeek'] == 'Saturday', 'Weekened_Flag'] = 1\n",
    "Merge3.loc[Merge3['DayOfWeek'] == 'Sunday', 'Weekened_Flag'] = 1\n",
    "Merge3.drop(['DayOfWeek', 'DATE_y'], axis='columns', inplace = True)"
   ]
  },
  {
   "cell_type": "code",
   "execution_count": 22,
   "metadata": {},
   "outputs": [
    {
     "data": {
      "text/html": [
       "<div>\n",
       "<style scoped>\n",
       "    .dataframe tbody tr th:only-of-type {\n",
       "        vertical-align: middle;\n",
       "    }\n",
       "\n",
       "    .dataframe tbody tr th {\n",
       "        vertical-align: top;\n",
       "    }\n",
       "\n",
       "    .dataframe thead th {\n",
       "        text-align: right;\n",
       "    }\n",
       "</style>\n",
       "<table border=\"1\" class=\"dataframe\">\n",
       "  <thead>\n",
       "    <tr style=\"text-align: right;\">\n",
       "      <th></th>\n",
       "      <th>DAY</th>\n",
       "      <th>MONTH</th>\n",
       "      <th>YEAR</th>\n",
       "      <th>DEMAND</th>\n",
       "      <th>MAX_TEMP</th>\n",
       "      <th>MIN_TEMP</th>\n",
       "      <th>Holiday_Flag</th>\n",
       "      <th>Weekened_Flag</th>\n",
       "    </tr>\n",
       "  </thead>\n",
       "  <tbody>\n",
       "    <tr>\n",
       "      <th>count</th>\n",
       "      <td>12571.000000</td>\n",
       "      <td>12571.000000</td>\n",
       "      <td>12571.000000</td>\n",
       "      <td>12571.000000</td>\n",
       "      <td>12568.000000</td>\n",
       "      <td>12568.000000</td>\n",
       "      <td>12571.000000</td>\n",
       "      <td>12571.000000</td>\n",
       "    </tr>\n",
       "    <tr>\n",
       "      <th>mean</th>\n",
       "      <td>15.712195</td>\n",
       "      <td>6.376342</td>\n",
       "      <td>2016.897065</td>\n",
       "      <td>206615.119181</td>\n",
       "      <td>21.251745</td>\n",
       "      <td>11.110757</td>\n",
       "      <td>0.045263</td>\n",
       "      <td>0.284146</td>\n",
       "    </tr>\n",
       "    <tr>\n",
       "      <th>std</th>\n",
       "      <td>8.812006</td>\n",
       "      <td>3.407401</td>\n",
       "      <td>1.951496</td>\n",
       "      <td>131080.607408</td>\n",
       "      <td>7.513166</td>\n",
       "      <td>6.762894</td>\n",
       "      <td>0.207888</td>\n",
       "      <td>0.451025</td>\n",
       "    </tr>\n",
       "    <tr>\n",
       "      <th>min</th>\n",
       "      <td>1.000000</td>\n",
       "      <td>1.000000</td>\n",
       "      <td>2014.000000</td>\n",
       "      <td>1053.270000</td>\n",
       "      <td>-2.100000</td>\n",
       "      <td>-14.200000</td>\n",
       "      <td>0.000000</td>\n",
       "      <td>0.000000</td>\n",
       "    </tr>\n",
       "    <tr>\n",
       "      <th>25%</th>\n",
       "      <td>8.000000</td>\n",
       "      <td>3.000000</td>\n",
       "      <td>2015.000000</td>\n",
       "      <td>59911.785000</td>\n",
       "      <td>16.063563</td>\n",
       "      <td>7.300000</td>\n",
       "      <td>0.000000</td>\n",
       "      <td>0.000000</td>\n",
       "    </tr>\n",
       "    <tr>\n",
       "      <th>50%</th>\n",
       "      <td>16.000000</td>\n",
       "      <td>6.000000</td>\n",
       "      <td>2017.000000</td>\n",
       "      <td>240256.590000</td>\n",
       "      <td>21.600000</td>\n",
       "      <td>11.400000</td>\n",
       "      <td>0.000000</td>\n",
       "      <td>0.000000</td>\n",
       "    </tr>\n",
       "    <tr>\n",
       "      <th>75%</th>\n",
       "      <td>23.000000</td>\n",
       "      <td>9.000000</td>\n",
       "      <td>2019.000000</td>\n",
       "      <td>307042.685000</td>\n",
       "      <td>26.800000</td>\n",
       "      <td>16.200000</td>\n",
       "      <td>0.000000</td>\n",
       "      <td>1.000000</td>\n",
       "    </tr>\n",
       "    <tr>\n",
       "      <th>max</th>\n",
       "      <td>31.000000</td>\n",
       "      <td>12.000000</td>\n",
       "      <td>2020.000000</td>\n",
       "      <td>520266.280000</td>\n",
       "      <td>46.600000</td>\n",
       "      <td>33.600000</td>\n",
       "      <td>1.000000</td>\n",
       "      <td>1.000000</td>\n",
       "    </tr>\n",
       "  </tbody>\n",
       "</table>\n",
       "</div>"
      ],
      "text/plain": [
       "                DAY         MONTH          YEAR         DEMAND      MAX_TEMP  \\\n",
       "count  12571.000000  12571.000000  12571.000000   12571.000000  12568.000000   \n",
       "mean      15.712195      6.376342   2016.897065  206615.119181     21.251745   \n",
       "std        8.812006      3.407401      1.951496  131080.607408      7.513166   \n",
       "min        1.000000      1.000000   2014.000000    1053.270000     -2.100000   \n",
       "25%        8.000000      3.000000   2015.000000   59911.785000     16.063563   \n",
       "50%       16.000000      6.000000   2017.000000  240256.590000     21.600000   \n",
       "75%       23.000000      9.000000   2019.000000  307042.685000     26.800000   \n",
       "max       31.000000     12.000000   2020.000000  520266.280000     46.600000   \n",
       "\n",
       "           MIN_TEMP  Holiday_Flag  Weekened_Flag  \n",
       "count  12568.000000  12571.000000   12571.000000  \n",
       "mean      11.110757      0.045263       0.284146  \n",
       "std        6.762894      0.207888       0.451025  \n",
       "min      -14.200000      0.000000       0.000000  \n",
       "25%        7.300000      0.000000       0.000000  \n",
       "50%       11.400000      0.000000       0.000000  \n",
       "75%       16.200000      0.000000       1.000000  \n",
       "max       33.600000      1.000000       1.000000  "
      ]
     },
     "execution_count": 22,
     "metadata": {},
     "output_type": "execute_result"
    }
   ],
   "source": [
    "Merge3.describe()"
   ]
  },
  {
   "cell_type": "code",
   "execution_count": 23,
   "metadata": {},
   "outputs": [],
   "source": [
    "# Null value replacement\n",
    "Merge3.loc[(Merge3['MONTH'] == 10) & (Merge3['YEAR'] == 2020) & (Merge3['DAY'] == 16) & (Merge3['STATE'].isin(['SA', 'TAS', 'VIC'])), 'MAX_TEMP'] = Merge3[(Merge3['MONTH'] == 10) & (Merge3['YEAR'] == 2020) & (Merge3['DAY'] == 15) & (Merge3['STATE'].isin(['SA', 'TAS', 'VIC']))]['MAX_TEMP'].values\n",
    "Merge3.loc[(Merge3['MONTH'] == 10) & (Merge3['YEAR'] == 2020) & (Merge3['DAY'] == 16) & (Merge3['STATE'].isin(['SA', 'TAS', 'VIC'])), 'MIN_TEMP'] = Merge3[(Merge3['MONTH'] == 10) & (Merge3['YEAR'] == 2020) & (Merge3['DAY'] == 15) & (Merge3['STATE'].isin(['SA', 'TAS', 'VIC']))]['MIN_TEMP'].values"
   ]
  },
  {
   "cell_type": "code",
   "execution_count": 24,
   "metadata": {},
   "outputs": [
    {
     "data": {
      "text/html": [
       "<div>\n",
       "<style scoped>\n",
       "    .dataframe tbody tr th:only-of-type {\n",
       "        vertical-align: middle;\n",
       "    }\n",
       "\n",
       "    .dataframe tbody tr th {\n",
       "        vertical-align: top;\n",
       "    }\n",
       "\n",
       "    .dataframe thead th {\n",
       "        text-align: right;\n",
       "    }\n",
       "</style>\n",
       "<table border=\"1\" class=\"dataframe\">\n",
       "  <thead>\n",
       "    <tr style=\"text-align: right;\">\n",
       "      <th></th>\n",
       "      <th>DAY</th>\n",
       "      <th>MONTH</th>\n",
       "      <th>YEAR</th>\n",
       "      <th>DEMAND</th>\n",
       "      <th>MAX_TEMP</th>\n",
       "      <th>MIN_TEMP</th>\n",
       "      <th>Holiday_Flag</th>\n",
       "      <th>Weekened_Flag</th>\n",
       "    </tr>\n",
       "  </thead>\n",
       "  <tbody>\n",
       "    <tr>\n",
       "      <th>count</th>\n",
       "      <td>12571.000000</td>\n",
       "      <td>12571.000000</td>\n",
       "      <td>12571.000000</td>\n",
       "      <td>12571.000000</td>\n",
       "      <td>12571.000000</td>\n",
       "      <td>12571.000000</td>\n",
       "      <td>12571.000000</td>\n",
       "      <td>12571.000000</td>\n",
       "    </tr>\n",
       "    <tr>\n",
       "      <th>mean</th>\n",
       "      <td>15.712195</td>\n",
       "      <td>6.376342</td>\n",
       "      <td>2016.897065</td>\n",
       "      <td>206615.119181</td>\n",
       "      <td>21.251606</td>\n",
       "      <td>11.111184</td>\n",
       "      <td>0.045263</td>\n",
       "      <td>0.284146</td>\n",
       "    </tr>\n",
       "    <tr>\n",
       "      <th>std</th>\n",
       "      <td>8.812006</td>\n",
       "      <td>3.407401</td>\n",
       "      <td>1.951496</td>\n",
       "      <td>131080.607408</td>\n",
       "      <td>7.513122</td>\n",
       "      <td>6.762971</td>\n",
       "      <td>0.207888</td>\n",
       "      <td>0.451025</td>\n",
       "    </tr>\n",
       "    <tr>\n",
       "      <th>min</th>\n",
       "      <td>1.000000</td>\n",
       "      <td>1.000000</td>\n",
       "      <td>2014.000000</td>\n",
       "      <td>1053.270000</td>\n",
       "      <td>-2.100000</td>\n",
       "      <td>-14.200000</td>\n",
       "      <td>0.000000</td>\n",
       "      <td>0.000000</td>\n",
       "    </tr>\n",
       "    <tr>\n",
       "      <th>25%</th>\n",
       "      <td>8.000000</td>\n",
       "      <td>3.000000</td>\n",
       "      <td>2015.000000</td>\n",
       "      <td>59911.785000</td>\n",
       "      <td>16.063563</td>\n",
       "      <td>7.300000</td>\n",
       "      <td>0.000000</td>\n",
       "      <td>0.000000</td>\n",
       "    </tr>\n",
       "    <tr>\n",
       "      <th>50%</th>\n",
       "      <td>16.000000</td>\n",
       "      <td>6.000000</td>\n",
       "      <td>2017.000000</td>\n",
       "      <td>240256.590000</td>\n",
       "      <td>21.600000</td>\n",
       "      <td>11.400000</td>\n",
       "      <td>0.000000</td>\n",
       "      <td>0.000000</td>\n",
       "    </tr>\n",
       "    <tr>\n",
       "      <th>75%</th>\n",
       "      <td>23.000000</td>\n",
       "      <td>9.000000</td>\n",
       "      <td>2019.000000</td>\n",
       "      <td>307042.685000</td>\n",
       "      <td>26.800000</td>\n",
       "      <td>16.200000</td>\n",
       "      <td>0.000000</td>\n",
       "      <td>1.000000</td>\n",
       "    </tr>\n",
       "    <tr>\n",
       "      <th>max</th>\n",
       "      <td>31.000000</td>\n",
       "      <td>12.000000</td>\n",
       "      <td>2020.000000</td>\n",
       "      <td>520266.280000</td>\n",
       "      <td>46.600000</td>\n",
       "      <td>33.600000</td>\n",
       "      <td>1.000000</td>\n",
       "      <td>1.000000</td>\n",
       "    </tr>\n",
       "  </tbody>\n",
       "</table>\n",
       "</div>"
      ],
      "text/plain": [
       "                DAY         MONTH          YEAR         DEMAND      MAX_TEMP  \\\n",
       "count  12571.000000  12571.000000  12571.000000   12571.000000  12571.000000   \n",
       "mean      15.712195      6.376342   2016.897065  206615.119181     21.251606   \n",
       "std        8.812006      3.407401      1.951496  131080.607408      7.513122   \n",
       "min        1.000000      1.000000   2014.000000    1053.270000     -2.100000   \n",
       "25%        8.000000      3.000000   2015.000000   59911.785000     16.063563   \n",
       "50%       16.000000      6.000000   2017.000000  240256.590000     21.600000   \n",
       "75%       23.000000      9.000000   2019.000000  307042.685000     26.800000   \n",
       "max       31.000000     12.000000   2020.000000  520266.280000     46.600000   \n",
       "\n",
       "           MIN_TEMP  Holiday_Flag  Weekened_Flag  \n",
       "count  12571.000000  12571.000000   12571.000000  \n",
       "mean      11.111184      0.045263       0.284146  \n",
       "std        6.762971      0.207888       0.451025  \n",
       "min      -14.200000      0.000000       0.000000  \n",
       "25%        7.300000      0.000000       0.000000  \n",
       "50%       11.400000      0.000000       0.000000  \n",
       "75%       16.200000      0.000000       1.000000  \n",
       "max       33.600000      1.000000       1.000000  "
      ]
     },
     "execution_count": 24,
     "metadata": {},
     "output_type": "execute_result"
    }
   ],
   "source": [
    "# Inspectng data\n",
    "Merge3.describe()"
   ]
  },
  {
   "cell_type": "code",
   "execution_count": 25,
   "metadata": {},
   "outputs": [
    {
     "name": "stdout",
     "output_type": "stream",
     "text": [
      "<class 'pandas.core.frame.DataFrame'>\n",
      "Int64Index: 12571 entries, 0 to 12570\n",
      "Data columns (total 10 columns):\n",
      " #   Column         Non-Null Count  Dtype  \n",
      "---  ------         --------------  -----  \n",
      " 0   DAY            12571 non-null  int64  \n",
      " 1   DATE_x         12571 non-null  object \n",
      " 2   MONTH          12571 non-null  int64  \n",
      " 3   YEAR           12571 non-null  int64  \n",
      " 4   STATE          12571 non-null  object \n",
      " 5   DEMAND         12571 non-null  float64\n",
      " 6   MAX_TEMP       12571 non-null  float64\n",
      " 7   MIN_TEMP       12571 non-null  float64\n",
      " 8   Holiday_Flag   12571 non-null  float64\n",
      " 9   Weekened_Flag  12571 non-null  int64  \n",
      "dtypes: float64(4), int64(4), object(2)\n",
      "memory usage: 1.1+ MB\n"
     ]
    }
   ],
   "source": [
    "#Merge3.info\n",
    "#Merge3.shape\n",
    "Merge3.info()"
   ]
  },
  {
   "cell_type": "code",
   "execution_count": 26,
   "metadata": {},
   "outputs": [
    {
     "data": {
      "text/plain": [
       "DAY              0\n",
       "DATE_x           0\n",
       "MONTH            0\n",
       "YEAR             0\n",
       "STATE            0\n",
       "DEMAND           0\n",
       "MAX_TEMP         0\n",
       "MIN_TEMP         0\n",
       "Holiday_Flag     0\n",
       "Weekened_Flag    0\n",
       "dtype: int64"
      ]
     },
     "execution_count": 26,
     "metadata": {},
     "output_type": "execute_result"
    }
   ],
   "source": [
    "Merge3.isnull().sum()"
   ]
  },
  {
   "cell_type": "code",
   "execution_count": 27,
   "metadata": {},
   "outputs": [
    {
     "data": {
      "text/plain": [
       "166"
      ]
     },
     "execution_count": 27,
     "metadata": {},
     "output_type": "execute_result"
    }
   ],
   "source": [
    "Merge3.duplicated().sum()"
   ]
  },
  {
   "cell_type": "code",
   "execution_count": 28,
   "metadata": {},
   "outputs": [
    {
     "data": {
      "text/plain": [
       "2016    1830\n",
       "2015    1825\n",
       "2014    1825\n",
       "2019    1825\n",
       "2018    1825\n",
       "2017    1825\n",
       "2020    1450\n",
       "Name: YEAR, dtype: int64"
      ]
     },
     "execution_count": 28,
     "metadata": {},
     "output_type": "execute_result"
    }
   ],
   "source": [
    "#Removing duplicates\n",
    "df = Merge3.duplicated()\n",
    "Merge3[df]\n",
    "Merge3.drop_duplicates(inplace = True)\n",
    "Merge3.YEAR.value_counts()"
   ]
  },
  {
   "cell_type": "code",
   "execution_count": 29,
   "metadata": {},
   "outputs": [
    {
     "data": {
      "text/plain": [
       "<matplotlib.axes._subplots.AxesSubplot at 0x1ee00fd17f0>"
      ]
     },
     "execution_count": 29,
     "metadata": {},
     "output_type": "execute_result"
    },
    {
     "data": {
      "image/png": "[encoded data removed]",
      "text/plain": [
       "<Figure size 432x288 with 1 Axes>"
      ]
     },
     "metadata": {
      "needs_background": "light"
     },
     "output_type": "display_data"
    }
   ],
   "source": [
    "#Checking Outlier\n",
    "Merge3.boxplot(column = ['DEMAND']) # No outliers\n",
    "Merge3.boxplot(column = ['MAX_TEMP']) # No outliers"
   ]
  },
  {
   "cell_type": "code",
   "execution_count": 30,
   "metadata": {},
   "outputs": [],
   "source": [
    "# Correlation Analysis\n",
    "Merge3.corr()\n",
    "Merge3.to_csv(Link2 + \"\\\\Master_dataset.csv\", index=False)"
   ]
  },
  {
   "cell_type": "code",
   "execution_count": 31,
   "metadata": {},
   "outputs": [],
   "source": [
    "#Dummy variables for State\n",
    "cols = ['STATE']\n",
    "Merge3 =pd.get_dummies(Merge3, columns=cols, drop_first=True)"
   ]
  },
  {
   "cell_type": "code",
   "execution_count": 32,
   "metadata": {},
   "outputs": [],
   "source": [
    "# Preparing Data for model\n",
    "Model_df = Merge3[(Merge3.YEAR.isin([2014, 2015, 2016, 2017, 2018]))]\n",
    "Test_df_2019 =Merge3[(Merge3.YEAR == 2019)] \n",
    "Test_df_2020 =Merge3[(Merge3.YEAR == 2020)] "
   ]
  },
  {
   "cell_type": "code",
   "execution_count": 33,
   "metadata": {},
   "outputs": [],
   "source": [
    "Model_df.to_csv(Link2 + \"\\\\Model_data.csv\", index=False)\n",
    "Test_df_2019.to_csv(Link2 + \"\\\\Test_data1.csv\", index=False)\n",
    "Test_df_2020.to_csv(Link2 + \"\\\\Test_data2.csv\", index=False)"
   ]
  },
  {
   "cell_type": "code",
   "execution_count": null,
   "metadata": {},
   "outputs": [],
   "source": []
  }
 ],
 "metadata": {
  "kernelspec": {
   "display_name": "Python 3",
   "language": "python",
   "name": "python3"
  },
  "language_info": {
   "codemirror_mode": {
    "name": "ipython",
    "version": 3
   },
   "file_extension": ".py",
   "mimetype": "text/x-python",
   "name": "python",
   "nbconvert_exporter": "python",
   "pygments_lexer": "ipython3",
   "version": "3.8.3"
  }
 },
 "nbformat": 4,
 "nbformat_minor": 4
}
